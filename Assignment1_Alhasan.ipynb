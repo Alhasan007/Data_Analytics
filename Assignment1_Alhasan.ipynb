{
  "nbformat": 4,
  "nbformat_minor": 0,
  "metadata": {
    "colab": {
      "provenance": []
    },
    "kernelspec": {
      "name": "python3",
      "display_name": "Python 3"
    },
    "language_info": {
      "name": "python"
    }
  },
  "cells": [
    {
      "cell_type": "markdown",
      "source": [
        "# **PYTHON BASICS QUESTION**"
      ],
      "metadata": {
        "id": "oESvvh85FtD-"
      }
    },
    {
      "cell_type": "markdown",
      "source": [
        "Q1: What is python and why is popular?\n",
        "\n",
        "Ans: Python is a popular programming language for a number of reasons, including:\n",
        "1)**Easy to learn**:\n",
        "Python is considered beginner-friendly and has a simple syntax. It's also an interpreted language, which means you can run each line of code as you write it, allowing you to check and adjust your code immediately.\n",
        "\n",
        "2) **Versatile**:\n",
        "Python is a general-purpose language that can be used for a wide range of applications, including building websites and software, automating tasks, and conducting data analysis.\n",
        "\n",
        "3) **Libraries**:\n",
        "Python has many popular libraries for specific purposes, such as machine learning, natural language processing, backend development, and databases.\n",
        "\n",
        "4) **Community**:\n",
        "Python has a large and active community, and a wealth of resources available.\n",
        "\n",
        "5) **Job opportunities**:\n",
        "Python is used across many industries and roles, so there are many job opportunities for Python programmers.\n",
        "\n",
        "6) **Ideal for AI and machine learning**:\n",
        "Python's stability, flexibility, and simplicity make it well-suited for AI and machine learning applications."
      ],
      "metadata": {
        "id": "qDnhj79kltgj"
      }
    },
    {
      "cell_type": "markdown",
      "source": [
        "Q2: What is an interpreter in Python?\n",
        "\n",
        "Ans: A Python interpreter is a computer program that takes the Python code and converts it into machine code and executes it. It reads the code and executes it line by line."
      ],
      "metadata": {
        "id": "6fBMghqqm1Ky"
      }
    },
    {
      "cell_type": "markdown",
      "source": [
        "Q3: What are Pre defined keywords in python?\n",
        "\n",
        "Ans: Python Keywords are some predefined and reserved words in Python that have special meanings. Keywords are used to define the syntax of the coding. The keyword cannot be used as an identifier, function, or variable name."
      ],
      "metadata": {
        "id": "lBaYX40VqIyH"
      }
    },
    {
      "cell_type": "markdown",
      "source": [
        "Q4: Can keywords be used as a variable name?\n",
        "\n",
        "Ans: No, keywords have special meaning and cannot be used as a variable name."
      ],
      "metadata": {
        "id": "jIyaei4XsV4Q"
      }
    },
    {
      "cell_type": "markdown",
      "source": [
        "Q5: What is mutability in python?\n",
        "\n",
        "Ans: Mutability in python refers to capability to change the value of an object after it is created.\n",
        "List and Dictionary in python are mutable, but tuple and strings are immutable.\n",
        "\n",
        "Example:\n",
        "my_list = [1, 2, 3]\n",
        "\n",
        "my_list.append(4)\n",
        "\n",
        "print(my_list)\n",
        "\n",
        "[1, 2, 3, 4]\n"
      ],
      "metadata": {
        "id": "83KbrXOgs9-w"
      }
    },
    {
      "cell_type": "markdown",
      "source": [
        "Q6: Why are List mutable and tuples are immutable?\n",
        "\n",
        "Ans: The main difference between tuples and lists is that tuples are immutable, meaning their contents cannot be changed after creation, while lists are mutable and can be modified. Additionally, tuples are more memory-efficient compared to lists. Tuples can't be changed after they're created, but lists can be modified.\n",
        "\n",
        "Suppose you write a method that depends on a particular sequence of objects remaining the same throughout the lifetime of the code. If you store these objects in a list, there is a chance that some other method using the list will accidentally alter it and thus break your method. Thus, in a way, a tuple offers a guarantee that a particular collection of objects will remain fixed."
      ],
      "metadata": {
        "id": "IBvzt723v1mL"
      }
    },
    {
      "cell_type": "markdown",
      "source": [
        "Q7: What is difference between == and is operator in Python?\n",
        "\n",
        "Ans: The main difference between == and is operator is == is comparison operator and is is identity operator. The == operator checks for equality of values which means it evaluates whether the values of two objects are the same. On the other hand, is operator checks for identity, meaning it determines whether two variables point to the same object in memory."
      ],
      "metadata": {
        "id": "qBPX9rq5AxOy"
      }
    },
    {
      "cell_type": "markdown",
      "source": [
        "Q8: What are logical operators in python?\n",
        "\n",
        "Ans: Python logical operators are used to combine conditional statements, allowing you to perform operations based on multiple conditions.\n",
        "\n",
        "Logical Operators (AND, OR, NOT)\n",
        "\n",
        "and\t: returns True if both the operands are true\n",
        "\n",
        "or\t: returns True if either of the operands is true\n",
        "\n",
        "not\t: returns True if the operand is false"
      ],
      "metadata": {
        "id": "nvlKHQM2BoY_"
      }
    },
    {
      "cell_type": "markdown",
      "source": [
        "Q9: What is type casting in python?\n",
        "\n",
        "Ans: Casting, also known as type conversion, is a process that converts a variable’s data type into another data type.\n",
        "\n",
        "The str() function takes an integer or float as an argument and converts it to a string.\n",
        "\n",
        "The int() function takes a string or float as an argument converts it to an integer.\n",
        "\n",
        "The float() function takes an integer or string as an argument and converts it to a float."
      ],
      "metadata": {
        "id": "RrWe-9C1Drym"
      }
    },
    {
      "cell_type": "markdown",
      "source": [
        "Q10: What is difference between Implicit and Explicit type casting?\n",
        "\n",
        "Ans:  Type Casting in Python:\n",
        "\n",
        "Python Implicit Type Conversion\n",
        "Python Explicit Type Conversion\n",
        "\n",
        "Implicit Type Conversion in Python\n",
        "In this, method, Python converts the datatype into another datatype automatically. Users don’t have to involve in this process.\n",
        "\n",
        "a = 7\n",
        "\n",
        "print(type(a))\n",
        "\n",
        "<class 'int'>\n",
        "\n",
        "Explicit Type Conversion in Python\n",
        "In this method, Python needs user involvement to convert the variable data type into the required data type.\n",
        "\n",
        "a = 5\n",
        "\n",
        "n = float(a)\n",
        "\n",
        "print(n)\n",
        "\n",
        "print(type(n))\n",
        "\n",
        "5.0\n",
        "\n",
        "<class 'float'>"
      ],
      "metadata": {
        "id": "iPRcr17LEXFx"
      }
    },
    {
      "cell_type": "markdown",
      "source": [
        "Q11: What is the purpose of conditional statements in python?\n",
        "\n",
        "Ans: Conditional Statements are statements in Python that provide a choice for the control flow based on a condition. It means that the control flow of the Python program will be decided based on the outcome of the condition.\n",
        "\n",
        "Conditionals Statements are mentione below:\n",
        " if\n",
        " if-else\n",
        " if-elif-else\n",
        "\n",
        "Example:\n",
        "\n",
        "letter = \"A\"\n",
        "\n",
        "if letter == \"B\":\n",
        "    \n",
        "    print(\"letter is B\")\n",
        "\n",
        "elif letter == \"C\":\n",
        "    \n",
        "    print(\"letter is C\")\n",
        "\n",
        "elif letter == \"A\":\n",
        "    \n",
        "    print(\"letter is A\")\n",
        "\n",
        "else:\n",
        "    \n",
        "    print(\"letter isn't A, B or C\")"
      ],
      "metadata": {
        "id": "LAFj492cGbk4"
      }
    },
    {
      "cell_type": "markdown",
      "source": [
        "Q12: How does the elif statement work?\n",
        "\n",
        "Ans: In Python, elif is short for \"else if\" and is used when the first if statement isn't true, but you want to check for another condition. Meaning, if statements pair up with elif and else statements to perform a series of checks.\n",
        "\n",
        "\n",
        "Example:\n",
        "\n",
        "letter = \"A\"\n",
        "\n",
        "if letter == \"B\":\n",
        "    \n",
        "    print(\"letter is B\")\n",
        "\n",
        "elif letter == \"C\":\n",
        "    \n",
        "    print(\"letter is C\")\n",
        "\n",
        "elif letter == \"A\":\n",
        "    \n",
        "    print(\"letter is A\")\n",
        "\n",
        "else:\n",
        "    \n",
        "    print(\"letter isn't A, B or C\")"
      ],
      "metadata": {
        "id": "7ROcy2yyZC2b"
      }
    },
    {
      "cell_type": "markdown",
      "source": [
        "Q13: What is the difference between for and while loops?\n",
        "\n",
        "Ans: A \"for\" loop is used when you know exactly how many times you want to iterate through a block of code, while a \"while\" loop is used when you don't know the number of iterations beforehand and instead want to repeat the code as long as a certain condition remains true; essentially, \"for\" loops are best for known iterations, and \"while\" loops are for unknown iterations based on a condition.\n",
        "\n",
        "Example:\n",
        "\n",
        "things = [toy, book, colours]\n",
        "\n",
        "for i in things:\n",
        "\n",
        "   print(i)\n",
        "\n",
        "game_over = False\n",
        "\n",
        "while not game_over:\n",
        "\n",
        "   print(\"Playing\")\n",
        "\n",
        "   over = input(\"Is the game over\")\n",
        "\n",
        "   if over == \"yes\":\n",
        "\n",
        "       game_over = True"
      ],
      "metadata": {
        "id": "iJwHdFf4ZpAn"
      }
    },
    {
      "cell_type": "markdown",
      "source": [
        "Q14: Describe a scenario where while is more suitable than for loop.\n",
        "\n",
        "Ans: for' loop, which is generally used when the number of iterations is known beforehand, a 'while' loop is ideal for situations where the number of iterations is not predetermined and depends on some dynamic condition.\n",
        "\n",
        "Recently I was practicing a calculator code, where I wanted to calculate the numbers again again without knowing when the calculation will end, so I preferred while over for loop.\n",
        "\n",
        "\n",
        "def Calculator(n1,n2,operator):\n",
        "    \n",
        "    if operator ==\"+\":\n",
        "        \n",
        "        return n1+n2\n",
        "    \n",
        "    elif operator ==\"-\":\n",
        "        \n",
        "        return n1-n2\n",
        "    \n",
        "    elif operator ==\"*\":\n",
        "        \n",
        "        return n1*n2\n",
        "    \n",
        "    elif operator ==\"/\":\n",
        "        \n",
        "        return n1/n2\n",
        "\n",
        "num1 = int(input(\"Enter 1st no.\"))\n",
        "\n",
        "calculation_over = False\n",
        "\n",
        "while not calculation_over:\n",
        "    \n",
        "    operator = input(\"Enter the operator\")\n",
        "    \n",
        "    num2 = int(input(\"Enter 2nd no.\"))\n",
        "    answer = Calculator(num1,num2,operator)\n",
        "    print(answer)\n",
        "    num1 = answer\n",
        "    cal = input(\"If the calculation is over\")\n",
        "    if cal == \"yes\":\n",
        "        calculation_over = True\n"
      ],
      "metadata": {
        "id": "AHftH_xub04d"
      }
    },
    {
      "cell_type": "markdown",
      "source": [
        "# **Practical Questions**"
      ],
      "metadata": {
        "id": "gReJxbdbdllI"
      }
    },
    {
      "cell_type": "code",
      "source": [
        "# Q1) Write a python program to print \"Hello, World!\"\n",
        "\n",
        "print(\"Hello, World!\")"
      ],
      "metadata": {
        "colab": {
          "base_uri": "https://localhost:8080/"
        },
        "id": "zIg0WCs1dz6y",
        "outputId": "d89b7b8e-d65b-44eb-d9f3-2ae5dbc29cb2"
      },
      "execution_count": 1,
      "outputs": [
        {
          "output_type": "stream",
          "name": "stdout",
          "text": [
            "Hello, World!\n"
          ]
        }
      ]
    },
    {
      "cell_type": "code",
      "source": [
        "# Q2) Write a code that displays your name and age\n",
        "\n",
        "name = input(\"Enter your name\\n\")\n",
        "age = int(input(\"Enter your age\\n\"))\n",
        "\n",
        "print(f\"My name is {name} and my age is {age}\")\n",
        "\n",
        "#OR\n",
        "\n",
        "# name = \"Alhasan Mustfa Mansuri\"\n",
        "# age = 27\n",
        "#print(f\"My name is {name} and my age is {age}\")\n"
      ],
      "metadata": {
        "colab": {
          "base_uri": "https://localhost:8080/"
        },
        "id": "KAgZtVCJePhF",
        "outputId": "0f50e36c-719a-46eb-ab95-54fd5f472a1d"
      },
      "execution_count": 2,
      "outputs": [
        {
          "output_type": "stream",
          "name": "stdout",
          "text": [
            "Enter your nameAlhasan\n",
            "Enter your age26\n",
            "My name is Alhasan and my age is 26\n"
          ]
        }
      ]
    },
    {
      "cell_type": "code",
      "source": [
        "# Q3) Write code to print all the pre-defined keywords in python using key word library\n",
        "\n",
        "# importing keyword module\n",
        "import keyword\n",
        "\n",
        "# using keyword.kwlist to display the list of keywords\n",
        "print(keyword.kwlist)\n",
        ""
      ],
      "metadata": {
        "colab": {
          "base_uri": "https://localhost:8080/"
        },
        "id": "UZiuMdApgJ8T",
        "outputId": "97789e06-131f-40a6-ffae-018b07d0505d"
      },
      "execution_count": 3,
      "outputs": [
        {
          "output_type": "stream",
          "name": "stdout",
          "text": [
            "['False', 'None', 'True', 'and', 'as', 'assert', 'async', 'await', 'break', 'class', 'continue', 'def', 'del', 'elif', 'else', 'except', 'finally', 'for', 'from', 'global', 'if', 'import', 'in', 'is', 'lambda', 'nonlocal', 'not', 'or', 'pass', 'raise', 'return', 'try', 'while', 'with', 'yield']\n"
          ]
        }
      ]
    },
    {
      "cell_type": "code",
      "source": [
        "# Q4) Write a program that checks if the given keyword is a Python keyword\n",
        "\n",
        "import keyword\n",
        "\n",
        "a =\"if\"\n",
        "b =\"in\"\n",
        "c= input(\"Enter your word\\n\")\n",
        "\n",
        "check = [a, b, c]\n",
        "\n",
        "for i in check:\n",
        "    print(\"keyword:\",keyword.iskeyword(i))"
      ],
      "metadata": {
        "colab": {
          "base_uri": "https://localhost:8080/"
        },
        "id": "sE04oBQ9hAk_",
        "outputId": "c104d791-6aed-4d31-e00f-34e177df7e70"
      },
      "execution_count": 11,
      "outputs": [
        {
          "output_type": "stream",
          "name": "stdout",
          "text": [
            "Enter your word\n",
            "for\n",
            "keyword: True\n",
            "keyword: True\n",
            "keyword: True\n"
          ]
        }
      ]
    },
    {
      "cell_type": "code",
      "source": [
        "# Q5) Create list and tuple in python and demonstrate how attempting to change element works differently for each.\n",
        "\n",
        "list = [1, 2, 3, 4, 5, 6, 7, 8, 9, 10]\n",
        "print(list)\n",
        "\n",
        "for i in list:\n",
        "    if i==3:\n",
        "        list[i] = 6\n",
        "\n",
        "print(list)\n",
        "\n",
        "tuple = (1, 2, 3, 4, 5, 6, 7, 8, 9, 10)\n",
        "print(tuple)\n",
        "\n",
        "for j in tuple:\n",
        "    if j==3:\n",
        "        tuple[j] = 6\n",
        "\n",
        "print(tuple)\n",
        "\n",
        "#Running the below code throws an error which means tuples are immutable\n",
        "\n",
        "# List is mutable and Tuple is immutable"
      ],
      "metadata": {
        "colab": {
          "base_uri": "https://localhost:8080/",
          "height": 263
        },
        "id": "PihnLOgvzs4V",
        "outputId": "c804c010-424b-4f6f-ef2c-d8152687b62d"
      },
      "execution_count": 6,
      "outputs": [
        {
          "output_type": "stream",
          "name": "stdout",
          "text": [
            "[1, 2, 3, 4, 5, 6, 7, 8, 9, 10]\n",
            "[1, 2, 3, 6, 5, 6, 7, 8, 9, 10]\n",
            "(1, 2, 3, 4, 5, 6, 7, 8, 9, 10)\n"
          ]
        },
        {
          "output_type": "error",
          "ename": "TypeError",
          "evalue": "'tuple' object does not support item assignment",
          "traceback": [
            "\u001b[0;31m---------------------------------------------------------------------------\u001b[0m",
            "\u001b[0;31mTypeError\u001b[0m                                 Traceback (most recent call last)",
            "\u001b[0;32m<ipython-input-6-3edb27759c43>\u001b[0m in \u001b[0;36m<cell line: 17>\u001b[0;34m()\u001b[0m\n\u001b[1;32m     17\u001b[0m \u001b[0;32mfor\u001b[0m \u001b[0mj\u001b[0m \u001b[0;32min\u001b[0m \u001b[0mtuple\u001b[0m\u001b[0;34m:\u001b[0m\u001b[0;34m\u001b[0m\u001b[0;34m\u001b[0m\u001b[0m\n\u001b[1;32m     18\u001b[0m     \u001b[0;32mif\u001b[0m \u001b[0mj\u001b[0m\u001b[0;34m==\u001b[0m\u001b[0;36m3\u001b[0m\u001b[0;34m:\u001b[0m\u001b[0;34m\u001b[0m\u001b[0;34m\u001b[0m\u001b[0m\n\u001b[0;32m---> 19\u001b[0;31m         \u001b[0mtuple\u001b[0m\u001b[0;34m[\u001b[0m\u001b[0mj\u001b[0m\u001b[0;34m]\u001b[0m \u001b[0;34m=\u001b[0m \u001b[0;36m6\u001b[0m\u001b[0;34m\u001b[0m\u001b[0;34m\u001b[0m\u001b[0m\n\u001b[0m\u001b[1;32m     20\u001b[0m \u001b[0;34m\u001b[0m\u001b[0m\n\u001b[1;32m     21\u001b[0m \u001b[0mprint\u001b[0m\u001b[0;34m(\u001b[0m\u001b[0mtuple\u001b[0m\u001b[0;34m)\u001b[0m\u001b[0;34m\u001b[0m\u001b[0;34m\u001b[0m\u001b[0m\n",
            "\u001b[0;31mTypeError\u001b[0m: 'tuple' object does not support item assignment"
          ]
        }
      ]
    },
    {
      "cell_type": "code",
      "source": [
        "# Q6) write a function to demonstrate the behaviour of mutable and immutable objects\n",
        "\n",
        "def testing():\n",
        "    # Immutable object (string)\n",
        "    message = \"Hello\"\n",
        "    # Mutable object (list)\n",
        "    fruits = [\"apple\", \"banana\", \"cherry\"]\n",
        "\n",
        "    print(\"Before modification:\")\n",
        "    print(f\"message = {message}\")\n",
        "    print(f\"fruits = {fruits}\")\n",
        "\n",
        "    # Modify the immutable object (string)\n",
        "    new_message = \"hi\"\n",
        "    message = new_message\n",
        "\n",
        "    # Modify the mutable object (list)\n",
        "    fruits[1] = \"orange\"\n",
        "\n",
        "    print(\"\\nAfter modification:\")\n",
        "    print(f\"message = {message}\")\n",
        "    print(f\"fruits = {fruits}\")\n",
        "\n",
        "\n",
        "testing()\n",
        "\n"
      ],
      "metadata": {
        "colab": {
          "base_uri": "https://localhost:8080/"
        },
        "id": "nbvMG2uk5xLA",
        "outputId": "6897eee0-708f-4543-d86e-25dccf620abb"
      },
      "execution_count": 29,
      "outputs": [
        {
          "output_type": "stream",
          "name": "stdout",
          "text": [
            "Before modification:\n",
            "message = Hello\n",
            "fruits = ['apple', 'banana', 'cherry']\n",
            "\n",
            "After modification:\n",
            "message = hi\n",
            "fruits = ['apple', 'orange', 'cherry']\n"
          ]
        }
      ]
    },
    {
      "cell_type": "code",
      "source": [
        "# Q7) write a function to demonstrate the behaviour of mutable and immutable objects\n",
        "\n",
        "def testing():\n",
        "    # Immutable object (string)\n",
        "    message = \"Hello\"\n",
        "    # Mutable object (list)\n",
        "    fruits = [\"apple\", \"banana\", \"cherry\"]\n",
        "\n",
        "    print(\"Before modification:\")\n",
        "    print(f\"message = {message}\")\n",
        "    print(f\"fruits = {fruits}\")\n",
        "\n",
        "    # Modify the immutable object (string)\n",
        "    new_message = \"hi\"\n",
        "    message = new_message\n",
        "\n",
        "    # Modify the mutable object (list)\n",
        "    fruits[1] = \"orange\"\n",
        "\n",
        "    print(\"\\nAfter modification:\")\n",
        "    print(f\"message = {message}\")\n",
        "    print(f\"fruits = {fruits}\")\n",
        "\n",
        "\n",
        "testing()"
      ],
      "metadata": {
        "colab": {
          "base_uri": "https://localhost:8080/"
        },
        "id": "xMn7vOSs-iyL",
        "outputId": "8ecefa97-5180-4e95-b9e3-f04f4fdd7532"
      },
      "execution_count": 11,
      "outputs": [
        {
          "output_type": "stream",
          "name": "stdout",
          "text": [
            "Before modification:\n",
            "message = Hello\n",
            "fruits = ['apple', 'banana', 'cherry']\n",
            "\n",
            "After modification:\n",
            "message = hi\n",
            "fruits = ['apple', 'orange', 'cherry']\n"
          ]
        }
      ]
    },
    {
      "cell_type": "code",
      "source": [
        "# Q8) Write a code to demonstrate the use of logical operator\n",
        "\n",
        "\n",
        "# Input from the user\n",
        "is_weekend = input(\"Is today a weekend? (yes/no): \").lower()\n",
        "has_free_time = input(\"Do you have free time? (yes/no): \").lower()\n",
        "is_weather_good = input(\"Is the weather good? (yes/no): \").lower()\n",
        "\n",
        "# Decision using logical operators\n",
        "if is_weekend == \"yes\" and has_free_time == \"yes\" and is_weather_good== \"yes\":\n",
        "    print(\"You can go for a picnic!\")\n",
        "elif is_weekend == \"yes\" or has_free_time== \"yes\":\n",
        "    print(\"You can relax at home or do something light.\")\n",
        "elif not is_weather_good == \"yes\":\n",
        "    print(\"Stay indoors; the weather is bad.\")\n",
        "else:\n",
        "    print(\"Focus on your responsibilities.\")\n",
        "\n"
      ],
      "metadata": {
        "colab": {
          "base_uri": "https://localhost:8080/"
        },
        "id": "UjTLyhtSC2by",
        "outputId": "d7d6d789-793b-4993-9ab4-cc3d85a2d0d6"
      },
      "execution_count": 58,
      "outputs": [
        {
          "output_type": "stream",
          "name": "stdout",
          "text": [
            "Is today a weekend? (yes/no): yes\n",
            "Do you have free time? (yes/no): yes\n",
            "Is the weather good? (yes/no): yes\n",
            "You can go for a picnic!\n"
          ]
        }
      ]
    },
    {
      "cell_type": "code",
      "source": [
        "#Q9) Write a program to convert user input from string to integer, float and boolean types.\n",
        "\n",
        "convert1 = input(\"Enter the any value\")\n",
        "#for eg: 6\n",
        "new_convert1 = int(convert1)\n",
        "print(type(new_convert1))\n",
        "#<class 'int'>\n",
        "\n",
        "convert2 = input(\"Enter the any value\")\n",
        "#for eg: 4\n",
        "new_convert2 = float(convert2)\n",
        "print(type(new_convert2))\n",
        "#<class 'float'>\n",
        "\n",
        "convert3 = input(\"Enter the any value\")\n",
        "#for eg: True\n",
        "new_convert3 = bool(convert3)\n",
        "print(type(new_convert3))\n",
        "#<class 'bool'>"
      ],
      "metadata": {
        "colab": {
          "base_uri": "https://localhost:8080/"
        },
        "id": "9TmuvO_0OjnX",
        "outputId": "7f5fb215-87f3-4044-ad33-b81e28ee6567"
      },
      "execution_count": 17,
      "outputs": [
        {
          "output_type": "stream",
          "name": "stdout",
          "text": [
            "Enter the any value6\n",
            "<class 'int'>\n",
            "Enter the any value4\n",
            "<class 'float'>\n",
            "Enter the any valueTrue\n",
            "<class 'bool'>\n"
          ]
        }
      ]
    },
    {
      "cell_type": "code",
      "source": [
        "#Q10) Write a code to demonstrate type casting with list of elements\n",
        "\n",
        "list = ['a', 1, 2.4, True, (1, 2), [3, 4], {5, 6}, { \"key\": \"value\"}]\n",
        "\n",
        "for i in list:\n",
        "    print(type(i))"
      ],
      "metadata": {
        "colab": {
          "base_uri": "https://localhost:8080/"
        },
        "id": "CBWl4XcaRauu",
        "outputId": "192f3af6-736c-4ce9-fd22-ce740ec24b26"
      },
      "execution_count": 20,
      "outputs": [
        {
          "output_type": "stream",
          "name": "stdout",
          "text": [
            "<class 'str'>\n",
            "<class 'int'>\n",
            "<class 'float'>\n",
            "<class 'bool'>\n",
            "<class 'tuple'>\n",
            "<class 'list'>\n",
            "<class 'set'>\n",
            "<class 'dict'>\n"
          ]
        }
      ]
    },
    {
      "cell_type": "code",
      "source": [
        "#Q11) Write the code that checks if the number is positive, negative or zero\n",
        "\n",
        "number = int(input(\"Enter the number you want to check\"))\n",
        "\n",
        "if number>0:\n",
        "    print(\"Number is positive\")\n",
        "elif number == 0:\n",
        "    print(\"Number is zero\")\n",
        "else:\n",
        "    print(\"Number is negative\")"
      ],
      "metadata": {
        "colab": {
          "base_uri": "https://localhost:8080/"
        },
        "id": "QL8AxpXdStbe",
        "outputId": "2b45b4d2-0220-4e14-c740-b8ab14ae651a"
      },
      "execution_count": 24,
      "outputs": [
        {
          "output_type": "stream",
          "name": "stdout",
          "text": [
            "Enter the number you want to check-221\n",
            "Number is negative\n"
          ]
        }
      ]
    },
    {
      "cell_type": "code",
      "source": [
        "#Q12) Write a for loop to print numbers from 1 to 10\n",
        "\n",
        "for i in range(1,11):\n",
        "    print(i)"
      ],
      "metadata": {
        "colab": {
          "base_uri": "https://localhost:8080/"
        },
        "id": "XoFatrNyTnLe",
        "outputId": "c471b2a2-7e8d-43a0-b6d2-20c0d5089c8c"
      },
      "execution_count": 25,
      "outputs": [
        {
          "output_type": "stream",
          "name": "stdout",
          "text": [
            "1\n",
            "2\n",
            "3\n",
            "4\n",
            "5\n",
            "6\n",
            "7\n",
            "8\n",
            "9\n",
            "10\n"
          ]
        }
      ]
    },
    {
      "cell_type": "code",
      "source": [
        "#Q13) Write a program to find the sum of all even numbers between 1 to 50\n",
        "\n",
        "total = 0\n",
        "\n",
        "for i in range(2,51,2):\n",
        "    total+=i\n",
        "\n",
        "print(total)\n",
        "\n"
      ],
      "metadata": {
        "colab": {
          "base_uri": "https://localhost:8080/"
        },
        "id": "QIwr2-a4T9wi",
        "outputId": "e37b5ce3-31c8-41db-d80a-7bd07dc326dc"
      },
      "execution_count": 30,
      "outputs": [
        {
          "output_type": "stream",
          "name": "stdout",
          "text": [
            "650\n"
          ]
        }
      ]
    },
    {
      "cell_type": "code",
      "source": [
        "#Q14) write a program to reverse a string using while loop\n",
        "\n",
        "def string_reversal(text):\n",
        "    length=len(text)-1\n",
        "    new_string = \"\"\n",
        "    while length>=0:\n",
        "        new_string += text[length]\n",
        "        length -=1\n",
        "    return new_string\n",
        "\n",
        "\n",
        "word = input(\"Enter the text you want to reverse\")\n",
        "x= string_reversal(word)\n",
        "print(x)"
      ],
      "metadata": {
        "colab": {
          "base_uri": "https://localhost:8080/"
        },
        "id": "MtHrmP8XVNoJ",
        "outputId": "33f2bdb1-86ca-484e-e81b-87c4add87324"
      },
      "execution_count": 39,
      "outputs": [
        {
          "output_type": "stream",
          "name": "stdout",
          "text": [
            "Enter the text you want to reversealhasan\n",
            "nasahla\n"
          ]
        }
      ]
    },
    {
      "cell_type": "code",
      "source": [
        "#Q15) Write a program to calculate factorial of a number provided by the user using while loop\n",
        "\n",
        "number = int(input(\"Enter your number\"))\n",
        "list = [number]\n",
        "calculation_over = False\n",
        "if number == 0:\n",
        "    print(\"1\")\n",
        "else:\n",
        "    while not calculation_over:\n",
        "        while number>1:\n",
        "            number -=1\n",
        "            list.append(number)\n",
        "        a = 1\n",
        "        for i in list:\n",
        "            a = a*i\n",
        "        calculation_over = True\n",
        "    #print(list)\n",
        "\n",
        "    print (a)"
      ],
      "metadata": {
        "colab": {
          "base_uri": "https://localhost:8080/"
        },
        "id": "t0QUaTr3eJHp",
        "outputId": "206468af-1d10-4658-a630-f9624c4312ee"
      },
      "execution_count": 53,
      "outputs": [
        {
          "output_type": "stream",
          "name": "stdout",
          "text": [
            "Enter your number10\n",
            "3628800\n"
          ]
        }
      ]
    }
  ]
}